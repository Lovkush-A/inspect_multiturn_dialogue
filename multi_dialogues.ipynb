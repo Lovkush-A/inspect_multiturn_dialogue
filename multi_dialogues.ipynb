{
 "cells": [
  {
   "cell_type": "markdown",
   "metadata": {},
   "source": [
    "Explanation\n",
    "\n",
    "Contents"
   ]
  },
  {
   "cell_type": "code",
   "execution_count": null,
   "metadata": {},
   "outputs": [],
   "source": [
    "import json\n",
    "\n",
    "from inspect_ai.model import ChatMessageUser, Model, get_model, ChatMessage, ChatMessageAssistant\n",
    "from inspect_ai.dataset import Sample, json_dataset\n",
    "from inspect_ai.solver import Generate, Solver, TaskState, solver\n",
    "from inspect_ai.scorer import Scorer, Score, scorer, INCORRECT, Target, accuracy, bootstrap_std\n",
    "from inspect_ai import Task, eval, task"
   ]
  },
  {
   "cell_type": "code",
   "execution_count": null,
   "metadata": {},
   "outputs": [],
   "source": [
    "def record_to_sample(record):\n",
    "    return Sample(\n",
    "        input = [ChatMessageUser(content=turn) for turn in record['turns']],\n",
    "        id=record['question_id']\n",
    "    )\n",
    "\n",
    "dataset = json_dataset(\"question.jsonl\", record_to_sample)"
   ]
  },
  {
   "cell_type": "code",
   "execution_count": null,
   "metadata": {},
   "outputs": [],
   "source": [
    "dataset[0]"
   ]
  },
  {
   "cell_type": "code",
   "execution_count": null,
   "metadata": {},
   "outputs": [],
   "source": [
    "dataset[-1]"
   ]
  },
  {
   "cell_type": "code",
   "execution_count": null,
   "metadata": {},
   "outputs": [],
   "source": [
    "@solver\n",
    "def generate() -> Solver:\n",
    "    r\"\"\"Generate output from the model and append it to task message history.\n",
    "\n",
    "    generate() is the default plan/solver if none is specified for a given task.\n",
    "    \"\"\"\n",
    "\n",
    "    # call generate on the tasks\n",
    "    async def solve(state: TaskState, generate: Generate) -> TaskState:\n",
    "        return await generate(state)\n",
    "\n",
    "    # return solve\n",
    "    return solve\n",
    "\n",
    "@solver\n",
    "def multi_dialogue_solver() -> Solver:\n",
    "    r\"\"\"Generate output from the model and append it to task message history.\n",
    "\n",
    "    generate() is the default plan/solver if none is specified for a given task.\n",
    "    \"\"\"\n",
    "    async def solve(state: TaskState, generate: Generate) -> TaskState:\n",
    "        # get the input from the state.\n",
    "        # input should be a list of ChatMessageUser\n",
    "        input = state._input\n",
    "\n",
    "        if not isinstance(input, list):\n",
    "            raise TypeError(f'Inputs in samples of the dataset should be list of ChatMessageUser. Found {input}')\n",
    "        if not all(isinstance(turn, ChatMessageUser) for turn in input):\n",
    "            raise TypeError(f'Inputs in samples of the dataset should be list of ChatMessageUser. Found {input}')\n",
    "\n",
    "        # I dont know if this is necessary, but it means I know exactly what\n",
    "        # state.messages is.\n",
    "        state.messages = []\n",
    "\n",
    "        # generate the output for each turn in the input\n",
    "        for turn in input:\n",
    "            state.messages.append(turn)\n",
    "            state = await generate(state)\n",
    "\n",
    "        print(f'At the end of solve. {state.messages=}')\n",
    "        return state\n",
    "\n",
    "    # return solve\n",
    "    return solve"
   ]
  },
  {
   "cell_type": "code",
   "execution_count": null,
   "metadata": {},
   "outputs": [],
   "source": [
    "@scorer(metrics=[accuracy(), bootstrap_std()])\n",
    "def always_false_scorer() -> Scorer:\n",
    "    # returns a scorer that always returns incorrect.\n",
    "    async def score(state: TaskState, target: Target) -> Score:\n",
    "        return Score(\n",
    "            value=INCORRECT,\n",
    "            explanation=\"You are always wrong. Mwahaha\",\n",
    "        )\n",
    "\n",
    "    return score"
   ]
  },
  {
   "cell_type": "code",
   "execution_count": null,
   "metadata": {},
   "outputs": [],
   "source": [
    "@task\n",
    "def multi_dialogue_task():\n",
    "    return Task(\n",
    "        dataset=dataset[31:32],\n",
    "        plan=[\n",
    "          multi_dialogue_solver(),\n",
    "        ],\n",
    "        scorer=always_false_scorer()\n",
    "    )"
   ]
  },
  {
   "cell_type": "code",
   "execution_count": null,
   "metadata": {},
   "outputs": [],
   "source": [
    "logs = eval(\n",
    "    tasks=multi_dialogue_task(),\n",
    "    model=\"openai/gpt-3.5-turbo\",\n",
    ")"
   ]
  },
  {
   "cell_type": "code",
   "execution_count": null,
   "metadata": {},
   "outputs": [],
   "source": []
  },
  {
   "cell_type": "code",
   "execution_count": null,
   "metadata": {},
   "outputs": [],
   "source": []
  },
  {
   "cell_type": "code",
   "execution_count": null,
   "metadata": {},
   "outputs": [],
   "source": [
    "# copied from https://github.com/lm-sys/FastChat/blob/main/fastchat/llm_judge/data/judge_prompts.jsonl\n",
    "\n",
    "judge_prompt ={\n",
    "    \"name\": \"single-v1-multi-turn\",\n",
    "    \"type\": \"single\",\n",
    "    \"system_prompt\": \"Please act as an impartial judge and evaluate the quality of the response provided by an AI assistant to the user question displayed below. Your evaluation should consider factors such as the helpfulness, relevance, accuracy, depth, creativity, and level of detail of the response. You evaluation should focus on the assistant's answer to the second user question. Begin your evaluation by providing a short explanation. Be as objective as possible. After providing your explanation, you must rate the response on a scale of 1 to 10 by strictly following this format: \\\"[[rating]]\\\", for example: \\\"Rating: [[5]]\\\".\\n\\n\",\n",
    "    \"prompt_template\": \"<|The Start of Assistant A's Conversation with User|>\\n\\n### User:\\n{question_1}\\n\\n### Assistant A:\\n{answer_1}\\n\\n### User:\\n{question_2}\\n\\n### Assistant A:\\n{answer_2}\\n\\n<|The End of Assistant A's Conversation with User|>\",\n",
    "    \"description\": \"Prompt for general questions\",\n",
    "    \"category\": \"general\",\n",
    "    \"output_format\": \"[[rating]]\"\n",
    "}\n",
    "\n",
    "judge_prompt_math = {\n",
    "    \"name\": \"single-math-v1-multi-turn\",\n",
    "    \"type\": \"single\",\n",
    "    \"system_prompt\": \"Please act as an impartial judge and evaluate the quality of the response provided by an AI assistant to the user question. Your evaluation should consider correctness and helpfulness. You will be given a reference answer and the assistant's answer. You evaluation should focus on the assistant's answer to the second question. Begin your evaluation by comparing the assistant's answer with the reference answer. Identify and correct any mistakes. Be as objective as possible. After providing your explanation, you must rate the response on a scale of 1 to 10 by strictly following this format: \\\"[[rating]]\\\", for example: \\\"Rating: [[5]]\\\".\\n\\n\",\n",
    "    \"prompt_template\": \"<|The Start of Reference Answer|>\\n\\n### User:\\n{question_1}\\n\\n### Reference answer:\\n{ref_answer_1}\\n\\n### User:\\n{question_2}\\n\\n### Reference answer:\\n{ref_answer_2}\\n\\n<|The End of Reference Answer|>\\n\\n\\n<|The Start of Assistant A's Conversation with User|>\\n\\n### User:\\n{question_1}\\n\\n### Assistant A:\\n{answer_1}\\n\\n### User:\\n{question_2}\\n\\n### Assistant A:\\n{answer_2}\\n\\n<|The End of Assistant A's Conversation with User|>\",\n",
    "    \"description\": \"Prompt for general questions\",\n",
    "    \"category\": \"math\",\n",
    "    \"output_format\": \"[[rating]]\"\n",
    "}\n"
   ]
  }
 ],
 "metadata": {
  "kernelspec": {
   "display_name": "inspect",
   "language": "python",
   "name": "python3"
  },
  "language_info": {
   "codemirror_mode": {
    "name": "ipython",
    "version": 3
   },
   "file_extension": ".py",
   "mimetype": "text/x-python",
   "name": "python",
   "nbconvert_exporter": "python",
   "pygments_lexer": "ipython3",
   "version": "3.11.9"
  }
 },
 "nbformat": 4,
 "nbformat_minor": 2
}
